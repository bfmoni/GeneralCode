{
 "cells": [
  {
   "cell_type": "code",
   "execution_count": null,
   "id": "b4d0a462",
   "metadata": {},
   "outputs": [],
   "source": [
    "#REFERENCES\n",
    "# https://mathworld.wolfram.com/GnomonicProjection.html\n",
    "# https://stackoverflow.com/questions/6671183/calculate-the-center-point-of-multiple-latitude-longitude-coordinate-pairs\n",
    "# https://www.movable-type.co.uk/scripts/latlong.html\n",
    "# https://gis.stackexchange.com/questions/143789/how-do-i-calculate-the-latitude-of-an-end-point-given-a-start-point-bearing-an\n",
    "# https://www.geeksforgeeks.org/convex-hull-using-graham-scan/\n",
    "# https://math.stackexchange.com/questions/402799/intersection-of-two-arcs-on-sphere\n",
    "# https://blog.mbedded.ninja/mathematics/geometry/spherical-geometry/finding-the-intersection-of-two-arcs-that-lie-on-a-sphere/"
   ]
  },
  {
   "cell_type": "code",
   "execution_count": null,
   "id": "72540d82",
   "metadata": {},
   "outputs": [],
   "source": [
    "import math\n",
    "import functools\n",
    "\n",
    "rads = math.pi / 180\n",
    "eRadius = 6371 #km"
   ]
  },
  {
   "cell_type": "code",
   "execution_count": null,
   "id": "22891fb0",
   "metadata": {},
   "outputs": [],
   "source": [
    "def round(v, epislon=0.00001):\n",
    "    if abs(v) < epislon:\n",
    "        return 0\n",
    "    if v + epislon > 1:\n",
    "        return 1\n",
    "    if v - epislon < -1:\n",
    "        return -1\n",
    "    return v"
   ]
  },
  {
   "cell_type": "code",
   "execution_count": null,
   "id": "7dccc68d",
   "metadata": {},
   "outputs": [],
   "source": [
    "def roundFloat(v, epislon=0.00001):\n",
    "    sign = 1 if v > 0 else -1\n",
    "    absV = abs(v)\n",
    "    if math.floor(absV) < math.floor(absV + epislon):\n",
    "        return sign * math.floor(absV + epislon)\n",
    "    elif math.floor(absV) > math.floor(absV - epislon):\n",
    "        return sign * math.floor(absV)\n",
    "    return v"
   ]
  },
  {
   "cell_type": "code",
   "execution_count": null,
   "id": "7ba649a7",
   "metadata": {},
   "outputs": [],
   "source": [
    "#Convert lat/lon (must be in radians) to Cartesian coordinates for each location.\n",
    "def toXYZ(latLon):\n",
    "    rLat,rLon = latLon[0] * rads, latLon[1] *rads\n",
    "\n",
    "    cLat = round(math.cos(rLat))\n",
    "\n",
    "    X = cLat * round(math.cos(rLon))\n",
    "    Y = cLat * round(math.sin(rLon))\n",
    "    Z = round(math.sin(rLat))\n",
    "    return [X,Y ,Z]"
   ]
  },
  {
   "cell_type": "code",
   "execution_count": null,
   "id": "0ae1c432",
   "metadata": {},
   "outputs": [],
   "source": [
    "def checkPlane(plane,vector):\n",
    "    check = 0\n",
    "    for x in range(len(plane)):\n",
    "        check += plane[x] * vector[x]\n",
    "    return round(check) > 0"
   ]
  },
  {
   "cell_type": "code",
   "execution_count": null,
   "id": "f7419e76",
   "metadata": {},
   "outputs": [],
   "source": [
    "def toLatLon(xyz):\n",
    "    lat = math.atan2(xyz[2], (xyz[0] * xyz[0] + xyz[1] * xyz[1])**(1/2)) / rads\n",
    "    lon = math.atan2(xyz[1],xyz[0]) / rads\n",
    "    return [lat, lon]"
   ]
  },
  {
   "cell_type": "code",
   "execution_count": null,
   "id": "c36ae880",
   "metadata": {},
   "outputs": [],
   "source": [
    "def haversine(start, stop):\n",
    "    startLat = start[0] * rads\n",
    "    startLon = start[1] * rads\n",
    "\n",
    "    stopLat = stop[0] * rads\n",
    "    stopLon = stop[1] * rads\n",
    "\n",
    "    latDiff = stopLat - startLat\n",
    "    lonDiff = stopLon - startLon\n",
    "\n",
    "    sinLatDiff = math.sin(latDiff / 2)\n",
    "    sinLonDiff = math.sin(lonDiff / 2)\n",
    "\n",
    "    a = sinLatDiff * sinLatDiff + math.cos(startLat) * math.cos(stopLat) * sinLonDiff * sinLonDiff\n",
    "\n",
    "    c = 2 * math.atan2( a**(1/2), (1-a)**(1/2) ) #angular distance\n",
    "    return c * eRadius\n",
    "\n",
    "    "
   ]
  },
  {
   "cell_type": "code",
   "execution_count": null,
   "id": "8eddadf5",
   "metadata": {},
   "outputs": [],
   "source": [
    "def bearing(start,stop):\n",
    "    startLat = start[0] * rads\n",
    "    startLon = start[1] * rads\n",
    "\n",
    "    stopLat = stop[0] * rads\n",
    "    stopLon = stop[1] * rads\n",
    "\n",
    "    lonDiff = stopLon - startLon\n",
    "\n",
    "    return math.atan2(\n",
    "        math.sin(lonDiff) * math.cos(stopLat),\n",
    "        math.cos(startLat) * math.sin(stopLat) - math.sin(startLat) * math.cos(stopLat) * math.cos(lonDiff)\n",
    "    )\n"
   ]
  },
  {
   "cell_type": "code",
   "execution_count": null,
   "id": "5c65595a",
   "metadata": {},
   "outputs": [],
   "source": [
    "def destination(latLon,d,b):\n",
    "    lat = latLon[0] * rads\n",
    "    lon = latLon[1] * rads\n",
    "\n",
    "    a = d / eRadius\n",
    "\n",
    "    lat2 = math.asin(math.sin(lat) * math.cos(a) + math.cos(lat) * math.sin(a) * math.cos(b))\n",
    "    lon2 = lon + math.atan2(math.sin(b) * math.sin(a) * math.cos(lat), math.cos(a) - math.sin(lat) * math.sin(lat2))\n",
    "    return [roundFloat(lat2 / rads), ( roundFloat(lon2 / rads) + 540) % 360 - 180]"
   ]
  },
  {
   "cell_type": "code",
   "execution_count": null,
   "id": "cf3988de",
   "metadata": {},
   "outputs": [],
   "source": [
    "def toGnomonic(latLon, cLatLon):\n",
    "    lat = latLon[0] * rads\n",
    "    lon = latLon[1] * rads\n",
    "\n",
    "    cLat = cLatLon[0] * rads\n",
    "    cLon = cLatLon[1] * rads\n",
    "\n",
    "    ccLat = math.cos(cLat)\n",
    "    sLat = math.sin(lat)\n",
    "    scLat = math.sin(cLat)\n",
    "    cosLat = math.cos(lat)\n",
    "    lonDelta = lon - cLon\n",
    "    cosLonDelta = math.cos(lonDelta)\n",
    "\n",
    "    cosc = scLat * sLat + ccLat * cosLat * cosLonDelta\n",
    "    x = cosLat * math.sin(lonDelta) / cosc\n",
    "    y = ( ccLat * sLat - scLat * cosLat * cosLonDelta ) / cosc\n",
    "\n",
    "    return [x,y] "
   ]
  },
  {
   "cell_type": "code",
   "execution_count": null,
   "id": "098e256a",
   "metadata": {},
   "outputs": [],
   "source": [
    "def fromGnomonic(xy, cLatLon):\n",
    "    p = (xy[0] * xy[0] + xy[1] * xy[1]) ** (1/2)\n",
    "    if p == 0:\n",
    "        return cLatLon\n",
    "    c = math.atan(p)\n",
    "\n",
    "    cLat = cLatLon[0] * rads\n",
    "    cLon = cLatLon[1] * rads\n",
    "\n",
    "    cosc = math.cos(c)\n",
    "    sLat = math.sin(cLat)\n",
    "    sinc = math.sin(c)\n",
    "    cosLat =  math.cos(cLat)\n",
    "\n",
    "    lat = math.asin(cosc * sLat + xy[1] * sinc * cosLat / p) \n",
    "    lon = cLon + math.atan( xy[0] * sinc / ( p * cosLat * cosc - xy[1] * sLat * sinc ) ) \n",
    "\n",
    "    lon = roundFloat(lon / rads)\n",
    "    if lon > 180:\n",
    "        lon = lon - 360\n",
    "    return [roundFloat(lat / rads) ,lon]"
   ]
  },
  {
   "cell_type": "code",
   "execution_count": null,
   "id": "6e455a5b",
   "metadata": {},
   "outputs": [],
   "source": [
    "def dot(a,b):\n",
    "    return a[0] * b[0] + a[1] * b[1] + a[2] * b[2]"
   ]
  },
  {
   "cell_type": "code",
   "execution_count": null,
   "id": "6d8c94c9",
   "metadata": {},
   "outputs": [],
   "source": [
    "def cross(a,b):\n",
    "    return [ \n",
    "        a[1]*b[2] - a[2]*b[1],\n",
    "        a[2]*b[0] - a[0]*b[2],\n",
    "        a[0]*b[1] - a[1]*b[0]\n",
    "    ]"
   ]
  },
  {
   "cell_type": "code",
   "execution_count": null,
   "id": "ed2f9fc5",
   "metadata": {},
   "outputs": [],
   "source": [
    "def split(start,stop):\n",
    "    xyzStart = toXYZ(start)\n",
    "    xyzStop = toXYZ(stop)\n",
    "    startToStop = cross(xyzStart,xyzStop)\n",
    "\n",
    "    startSplit = toXYZ([10,180])\n",
    "    endSplit = toXYZ([0,180])\n",
    "    splitCross = cross(startSplit, endSplit)\n",
    "\n",
    "    intersection = cross(splitCross,startToStop)\n",
    "\n",
    "    return toLatLon(intersection)"
   ]
  },
  {
   "cell_type": "code",
   "execution_count": null,
   "id": "fd619ebd",
   "metadata": {},
   "outputs": [],
   "source": [
    "def checkIntersection(start,stop,res):\n",
    "    a1 = math.acos(dot(start,res) / (getNorm(start) * getNorm(res)) )\n",
    "    a2 = math.acos(dot(res,stop) / (getNorm(stop) * getNorm(res)) )\n",
    "\n",
    "    intial = math.acos(dot(start,stop) / ( getNorm(start) * getNorm(stop) ))\n",
    "    if round(a1 + a2 - intial) == 0:\n",
    "        return True\n",
    "    return False\n"
   ]
  },
  {
   "cell_type": "code",
   "execution_count": null,
   "id": "60152b63",
   "metadata": {},
   "outputs": [],
   "source": [
    "#def convexHull3D(latLonArray):\n",
    "    #convert to xyz\n",
    "    #find center xyz\n",
    "    #filter to xyz's above the plane created by origin to center vector\n",
    "    #we need the lat lon points that pass this test\n",
    "    #take lat,lons and gnomonic project based on center\n",
    "    #hull these points\n",
    "    #reproject hull points\n",
    "    #slice into two groups for easier handling of anti-merdian"
   ]
  },
  {
   "cell_type": "code",
   "execution_count": null,
   "id": "97a25014",
   "metadata": {},
   "outputs": [],
   "source": [
    "def orientation(p,q,r):\n",
    "    val = (q[1] - p[1]) * (r[0] - q[0]) - (q[0] - p[0]) * (r[1] - q[1])\n",
    "    val = round(val)\n",
    "    if val == 0: #collinear\n",
    "        return 0\n",
    "    elif val > 0: #clock wise\n",
    "        return 1\n",
    "    else: #counterclock wise\n",
    "        return 2 \n"
   ]
  },
  {
   "cell_type": "code",
   "execution_count": null,
   "id": "9561f96c",
   "metadata": {},
   "outputs": [],
   "source": [
    "def sortCriteria(x,y,p):\n",
    "    o = orientation(p,x,y)\n",
    "    if o == 0:\n",
    "        if (p[0] - y[0]) ** 2 + (p[1] - y[1]) ** 2 >= (p[0] - x[0]) ** 2 + (p[1] - x[1]) ** 2:\n",
    "            return -1\n",
    "        else:\n",
    "            return 1\n",
    "    else:\n",
    "        if o == 2:\n",
    "            return -1\n",
    "        else:\n",
    "            return 1"
   ]
  },
  {
   "cell_type": "code",
   "execution_count": null,
   "id": "51858eb1",
   "metadata": {},
   "outputs": [],
   "source": [
    "def makeSortCriteria():\n",
    "    return lambda x,y : sortCriteria(x,y,[0,0])"
   ]
  },
  {
   "cell_type": "code",
   "execution_count": null,
   "id": "ecbc78c5",
   "metadata": {},
   "outputs": [],
   "source": [
    "def grahamScan(xyArray):\n",
    "    #find lowest point on y if tie take fatherest left\n",
    "    pMin = xyArray[0]\n",
    "    minSpot = 0\n",
    "    n = len(xyArray)\n",
    "    for i in range(1,n):\n",
    "        if xyArray[i][1] < pMin[1] or xyArray[i][1] == pMin[1] and xyArray[i][0] < pMin[0]:\n",
    "            pMin = xyArray[i]\n",
    "            minSpot = i\n",
    "\n",
    "    # swap = xyArray[0]\n",
    "    # xyArray[0] = pMin\n",
    "    # xyArray[minSpot] = swap\n",
    "\n",
    "    #now sort based on first orientation from first spot and then distance from first spot if tied\n",
    "    compare = makeSortCriteria()     \n",
    "    xyArray = sorted(xyArray, key=functools.cmp_to_key(compare))\n",
    "\n",
    "    m = 1\n",
    "    stop = n -1\n",
    "    i = 1 \n",
    "    # go through and exclude points that have the same orientation\n",
    "    while(i < n):\n",
    "        while i < stop:\n",
    "            o = orientation(pMin,xyArray[i],xyArray[i+1])\n",
    "            if o == 0:\n",
    "                i += 1\n",
    "            else:\n",
    "                break\n",
    "        xyArray[m] = xyArray[i]\n",
    "        i += 1\n",
    "        m += 1\n",
    "    if m < 3:\n",
    "        return xyArray[0:m]\n",
    "\n",
    "    s = []\n",
    "    s.append(xyArray[0])\n",
    "    s.append(xyArray[1])\n",
    "    s.append(xyArray[2])\n",
    "    sLen = len(s)\n",
    "    for i in range(3,m):\n",
    "        while ( (sLen > 1) and (orientation(s[sLen - 2], s[sLen -1 ], xyArray[i])) != 2):\n",
    "            s.pop()\n",
    "            sLen = sLen - 1\n",
    "        s.append(xyArray[i])\n",
    "        sLen = sLen + 1\n",
    "    return s\n",
    "    "
   ]
  },
  {
   "cell_type": "code",
   "execution_count": null,
   "id": "e279c201",
   "metadata": {},
   "outputs": [],
   "source": [
    "d = haversine([45,45],[46,47])\n",
    "b = bearing([45,45],[46,47])\n",
    "newP = destination([45,45], 191.461, 0.93876502)\n",
    "print(f\"distance {d} bearing {b} point {newP}\")"
   ]
  },
  {
   "cell_type": "code",
   "execution_count": null,
   "id": "7ed11838",
   "metadata": {},
   "outputs": [],
   "source": [
    "xy = toGnomonic([47,100],[60,60])\n",
    "latLon = fromGnomonic(xy,[60,60])\n",
    "print(f\"lat {latLon[0]} lon {latLon[1]}\")"
   ]
  },
  {
   "cell_type": "code",
   "execution_count": null,
   "id": "a9777e82",
   "metadata": {},
   "outputs": [],
   "source": [
    "xyz = toXYZ([45,45])\n",
    "lat,lon = toLatLon(xyz)\n",
    "print(f\"lat {lat} lon {lon}\")"
   ]
  },
  {
   "cell_type": "code",
   "execution_count": null,
   "id": "f94acde4",
   "metadata": {},
   "outputs": [],
   "source": [
    "plane = toXYZ([89.99999,0])\n",
    "print(checkPlane(plane,toXYZ([50,-40])))"
   ]
  },
  {
   "cell_type": "code",
   "execution_count": null,
   "id": "6f20c42e",
   "metadata": {},
   "outputs": [],
   "source": [
    "split([60,170],[60,-170])"
   ]
  },
  {
   "cell_type": "code",
   "execution_count": null,
   "id": "46511130",
   "metadata": {},
   "outputs": [],
   "source": [
    "p = [[63,-167],[55,155],[70,170],[65,160],[67,-172],[60,175]]\n",
    "p = [toGnomonic(newP, [60,175]) for newP in p]\n",
    "p = grahamScan(p)\n",
    "p = [fromGnomonic(newP,[60,175]) for newP in p]\n",
    "p"
   ]
  },
  {
   "cell_type": "code",
   "execution_count": null,
   "id": "4a80b78c",
   "metadata": {},
   "outputs": [],
   "source": [
    "p = [[-5,55],[7,60],[3,45],[-10,57.6],[-3,72]]\n",
    "p = [toGnomonic(newP, [5,60]) for newP in p]\n",
    "p = grahamScan(p)\n",
    "p = [fromGnomonic(newP,[5,60]) for newP in p]\n",
    "p"
   ]
  }
 ],
 "metadata": {
  "kernelspec": {
   "display_name": "base",
   "language": "python",
   "name": "python3"
  },
  "language_info": {
   "codemirror_mode": {
    "name": "ipython",
    "version": 3
   },
   "file_extension": ".py",
   "mimetype": "text/x-python",
   "name": "python",
   "nbconvert_exporter": "python",
   "pygments_lexer": "ipython3",
   "version": "3.11.5"
  }
 },
 "nbformat": 4,
 "nbformat_minor": 5
}
