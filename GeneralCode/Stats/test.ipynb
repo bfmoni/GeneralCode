{
 "cells": [
  {
   "cell_type": "code",
   "execution_count": null,
   "metadata": {},
   "outputs": [],
   "source": [
    "from shapely import Polygon,,LineString\n",
    "from shapely.ops import split\n",
    "from math import atan2,sqrt,pi,sin,cos\n",
    "from functools import reduce"
   ]
  },
  {
   "cell_type": "code",
   "execution_count": null,
   "metadata": {},
   "outputs": [],
   "source": [
    "RAIDANS = pi/180"
   ]
  },
  {
   "cell_type": "code",
   "execution_count": null,
   "metadata": {},
   "outputs": [],
   "source": [
    "def sumX(acc, lonLat):\n",
    "    return acc + cos(lonLat[1] * RAIDANS) * cos(lonLat[0] * RAIDANS)\n",
    "\n",
    "def sumY(acc, lonLat):\n",
    "    return acc + cos(lonLat[1] * RAIDANS) * sin(lonLat[0] * RAIDANS)\n",
    "\n",
    "def sumZ(acc, lonLat):\n",
    "    return acc + sin(lonLat[1] * RAIDANS)\n",
    "\n",
    "def getCenter(coords):\n",
    "    n = len(coords)\n",
    "\n",
    "    x = reduce(sumX,coords,0) / n\n",
    "    y = reduce(sumY,coords,0) / n\n",
    "    z = reduce(sumZ,coords,0) / n\n",
    "\n",
    "\n",
    "    cLon = atan2(y,x) / RAIDANS\n",
    "    cLat = atan2(z, sqrt(x*x + y*y)) / RAIDANS\n",
    "\n",
    "    return [cLon,cLat]\n"
   ]
  },
  {
   "cell_type": "code",
   "execution_count": null,
   "metadata": {},
   "outputs": [],
   "source": [
    "def sameSign(num1,num2):\n",
    "    if num1 >= 0 and num2 >=0:\n",
    "        return True, True\n",
    "    elif num1 < 0 and num2 < 0:\n",
    "        return True, False\n",
    "    elif num1 < 0:\n",
    "        return False, False\n",
    "    else:\n",
    "        return False, True"
   ]
  },
  {
   "cell_type": "code",
   "execution_count": null,
   "metadata": {},
   "outputs": [],
   "source": [
    "def testBounds(c,lon):\n",
    "    test = sameSign(c,lon)\n",
    "    if test[0]:\n",
    "        if (lon < c + 90) or (lon > c - 90):\n",
    "            return True\n",
    "        return False\n",
    "    else:\n",
    "        #the 2nd number is negative\n",
    "        if test[1]:\n",
    "            if (c - 90 < lon) or (lon + 360 < c + 90):\n",
    "                return True\n",
    "            return False\n",
    "        #the 2nd number is positive\n",
    "        else:\n",
    "            if (c + 90 > lon) or (lon - 360 > c - 90):\n",
    "                return True\n",
    "            return False"
   ]
  },
  {
   "cell_type": "code",
   "execution_count": null,
   "metadata": {},
   "outputs": [],
   "source": [
    "if center[0] > 0:\n",
    "    if center[0] - 90 < 0:\n",
    "        line = LineString([[0,90],[0,-90]])\n",
    "    else:\n",
    "        line= LineString([[180,90],[180,-90]])\n",
    "else:\n",
    "    if center[0] + 90 > 0:\n",
    "        line = LineString([[0,90],[0,-90]])\n",
    "    else:\n",
    "        line = LineString([[-180,90],[-180,-90]])"
   ]
  },
  {
   "cell_type": "code",
   "execution_count": null,
   "metadata": {},
   "outputs": [],
   "source": [
    "def adjustPoints(center,points):\n",
    "    if center[0] >= 90:\n",
    "        points = [ [p[0] + 360,p[1]] if p[0] < 0 else [p[0],p[1]] for p in points ]\n",
    "    elif center[0] <= -90:\n",
    "        points = [ [p[0] - 360,p[1]] if p[0] > 0 else [p[0],p[1]] for p in points ]\n",
    "    else:\n",
    "        points = list(points)\n"
   ]
  },
  {
   "cell_type": "code",
   "execution_count": null,
   "metadata": {},
   "outputs": [],
   "source": [
    "result = split(poly,line)\n",
    "def unadjustPoints():\n",
    "    polyArray = []\n",
    "    for polys in result.geoms:\n",
    "        xx,yy = polys.exterior.coords.xy\n",
    "        outOBounds = False\n",
    "        sign = False\n",
    "        for x in xx:\n",
    "            if abs(x) > 180:\n",
    "                outOBounds = True\n",
    "                sign = False if x < 0 else True\n",
    "                break\n",
    "        if outOBounds:\n",
    "            xx = [x + 360 for x in xx] if not sign else [x -360 for x in xx]\n",
    "        polyArray.append(Polygon(list(zip(xx,yy))).convex_hull)\n"
   ]
  }
 ],
 "metadata": {
  "kernelspec": {
   "display_name": "testGeo",
   "language": "python",
   "name": "python3"
  },
  "language_info": {
   "codemirror_mode": {
    "name": "ipython",
    "version": 3
   },
   "file_extension": ".py",
   "mimetype": "text/x-python",
   "name": "python",
   "nbconvert_exporter": "python",
   "pygments_lexer": "ipython3",
   "version": "3.12.2"
  }
 },
 "nbformat": 4,
 "nbformat_minor": 2
}
